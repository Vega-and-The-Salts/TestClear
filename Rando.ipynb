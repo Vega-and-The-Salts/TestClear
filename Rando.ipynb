{
 "cells": [
  {
   "cell_type": "code",
   "execution_count": 1,
   "metadata": {
    "collapsed": true
   },
   "outputs": [],
   "source": [
    "# Import dependencies and Excel sheets\n",
    "from os.path import exists\n",
    "import pandas as pd\n",
    "df_j = pd.read_excel('jan.xlsx')\n",
    "df_f = pd.read_excel('feb.xlsx')\n",
    "df_m = pd.read_excel('mar.xlsx')\n",
    "df_a = pd.read_excel('apr.xlsx')"
   ]
  },
  {
   "cell_type": "code",
   "execution_count": 2,
   "outputs": [],
   "source": [
    "#Check to see if file exists\n",
    "file_exists = exists('under_threshold_doc.xlsx')"
   ],
   "metadata": {
    "collapsed": false,
    "pycharm": {
     "name": "#%%\n"
    }
   }
  },
  {
   "cell_type": "code",
   "execution_count": 3,
   "outputs": [],
   "source": [
    "### Which set is running? Change to f strings and allow lists to compile for ease\n",
    "# Rename totals to Month total\n",
    "df_j = df_j.rename(columns = {f\"Total\": \"Total January\"})\n",
    "df_f = df_f.rename(columns = {f\"Total\": \"Total February\"})\n",
    "df_m = df_m.rename(columns = {f\"Total\": \"Total March\"})\n",
    "df_a = df_a.rename(columns = {f\"Total\": \"Total April\"})"
   ],
   "metadata": {
    "collapsed": false,
    "pycharm": {
     "name": "#%%\n"
    }
   }
  },
  {
   "cell_type": "code",
   "execution_count": 4,
   "outputs": [],
   "source": [
    "# Find percentage of each dataframe\n",
    "df_j['% month 1'] = ((df_j['Total January'] / df_j['Total FC']) * 100).astype(int)\n",
    "df_f['% month 2'] = ((df_f['Total February'] / df_f['Total FC']) * 100).astype(int)\n",
    "df_m['% month 3'] = ((df_m['Total March'] / df_m['Total FC']) * 100).astype(int)\n",
    "df_a['% month 4'] = ((df_a['Total April'] / df_a['Total FC']) * 100).astype(int)"
   ],
   "metadata": {
    "collapsed": false,
    "pycharm": {
     "name": "#%%\n"
    }
   }
  },
  {
   "cell_type": "code",
   "execution_count": 5,
   "outputs": [],
   "source": [
    "# Merge all dataframes\n",
    "grouped_df = df_j\\\n",
    "    .merge(df_f, on= ['GR #', 'GR Name', 'region', 'Total FC'], how='inner')\\\n",
    "    .merge(df_m, on= ['GR #', 'GR Name', 'region', 'Total FC'], how='inner')\\\n",
    "    .merge(df_a, on= ['GR #', 'GR Name', 'region', 'Total FC'], how='inner')"
   ],
   "metadata": {
    "collapsed": false,
    "pycharm": {
     "name": "#%%\n"
    }
   }
  },
  {
   "cell_type": "code",
   "execution_count": 6,
   "outputs": [],
   "source": [
    "# Find percentage of all dataframes\n",
    "grouped_df['Total %'] = ((grouped_df['% month 1'] +\n",
    "                         grouped_df['% month 2'] +\n",
    "                         grouped_df['% month 3'] +\n",
    "                         grouped_df['% month 4'])/ 4).astype(int)"
   ],
   "metadata": {
    "collapsed": false,
    "pycharm": {
     "name": "#%%\n"
    }
   }
  },
  {
   "cell_type": "code",
   "execution_count": 7,
   "outputs": [
    {
     "data": {
      "text/plain": "    region         GR Name     GR #  Total January  Total FC  % month 1  \\\n1        7     Johnny Test  01PP868             55        90         61   \n2        7    Johnny Bravo  01PP869             51       102         50   \n3        4  Johnny Charlie  01PP870             60       100         60   \n4        4          Linkem  01PP871              7       100          7   \n5        2  Parks and Tech  01PP872             65       100         65   \n10       5        Fireside  01PP877              0       100          0   \n\n    Total February  % month 2  Total March  % month 3  Total April  % month 4  \\\n1               30         33           62         68           55         61   \n2               81         79           58         56           51         50   \n3               90         90           64         64           60         60   \n4               60         60           12         12            7          7   \n5               80         80           72         72           65         65   \n10               0          0            0          0            0          0   \n\n    Total %  \n1        55  \n2        58  \n3        68  \n4        21  \n5        70  \n10        0  ",
      "text/html": "<div>\n<style scoped>\n    .dataframe tbody tr th:only-of-type {\n        vertical-align: middle;\n    }\n\n    .dataframe tbody tr th {\n        vertical-align: top;\n    }\n\n    .dataframe thead th {\n        text-align: right;\n    }\n</style>\n<table border=\"1\" class=\"dataframe\">\n  <thead>\n    <tr style=\"text-align: right;\">\n      <th></th>\n      <th>region</th>\n      <th>GR Name</th>\n      <th>GR #</th>\n      <th>Total January</th>\n      <th>Total FC</th>\n      <th>% month 1</th>\n      <th>Total February</th>\n      <th>% month 2</th>\n      <th>Total March</th>\n      <th>% month 3</th>\n      <th>Total April</th>\n      <th>% month 4</th>\n      <th>Total %</th>\n    </tr>\n  </thead>\n  <tbody>\n    <tr>\n      <th>1</th>\n      <td>7</td>\n      <td>Johnny Test</td>\n      <td>01PP868</td>\n      <td>55</td>\n      <td>90</td>\n      <td>61</td>\n      <td>30</td>\n      <td>33</td>\n      <td>62</td>\n      <td>68</td>\n      <td>55</td>\n      <td>61</td>\n      <td>55</td>\n    </tr>\n    <tr>\n      <th>2</th>\n      <td>7</td>\n      <td>Johnny Bravo</td>\n      <td>01PP869</td>\n      <td>51</td>\n      <td>102</td>\n      <td>50</td>\n      <td>81</td>\n      <td>79</td>\n      <td>58</td>\n      <td>56</td>\n      <td>51</td>\n      <td>50</td>\n      <td>58</td>\n    </tr>\n    <tr>\n      <th>3</th>\n      <td>4</td>\n      <td>Johnny Charlie</td>\n      <td>01PP870</td>\n      <td>60</td>\n      <td>100</td>\n      <td>60</td>\n      <td>90</td>\n      <td>90</td>\n      <td>64</td>\n      <td>64</td>\n      <td>60</td>\n      <td>60</td>\n      <td>68</td>\n    </tr>\n    <tr>\n      <th>4</th>\n      <td>4</td>\n      <td>Linkem</td>\n      <td>01PP871</td>\n      <td>7</td>\n      <td>100</td>\n      <td>7</td>\n      <td>60</td>\n      <td>60</td>\n      <td>12</td>\n      <td>12</td>\n      <td>7</td>\n      <td>7</td>\n      <td>21</td>\n    </tr>\n    <tr>\n      <th>5</th>\n      <td>2</td>\n      <td>Parks and Tech</td>\n      <td>01PP872</td>\n      <td>65</td>\n      <td>100</td>\n      <td>65</td>\n      <td>80</td>\n      <td>80</td>\n      <td>72</td>\n      <td>72</td>\n      <td>65</td>\n      <td>65</td>\n      <td>70</td>\n    </tr>\n    <tr>\n      <th>10</th>\n      <td>5</td>\n      <td>Fireside</td>\n      <td>01PP877</td>\n      <td>0</td>\n      <td>100</td>\n      <td>0</td>\n      <td>0</td>\n      <td>0</td>\n      <td>0</td>\n      <td>0</td>\n      <td>0</td>\n      <td>0</td>\n      <td>0</td>\n    </tr>\n  </tbody>\n</table>\n</div>"
     },
     "execution_count": 7,
     "metadata": {},
     "output_type": "execute_result"
    }
   ],
   "source": [
    "# Pull GR below threshold\n",
    "threshold = 80\n",
    "below_threshold = grouped_df[grouped_df['Total %']<=threshold]\n",
    "below_threshold"
   ],
   "metadata": {
    "collapsed": false,
    "pycharm": {
     "name": "#%%\n"
    }
   }
  },
  {
   "cell_type": "code",
   "execution_count": 8,
   "outputs": [],
   "source": [
    "# Pull relevant information\n",
    "below_threshold = below_threshold[['region', 'GR Name',\n",
    "                                   'GR #', 'Total January',\n",
    "                                   'Total February', 'Total March',\n",
    "                                   'Total April', 'Total FC', 'Total %']]"
   ],
   "metadata": {
    "collapsed": false,
    "pycharm": {
     "name": "#%%\n"
    }
   }
  },
  {
   "cell_type": "code",
   "execution_count": 12,
   "outputs": [
    {
     "ename": "AttributeError",
     "evalue": "'tuple' object has no attribute 'to_excel'",
     "output_type": "error",
     "traceback": [
      "\u001B[1;31m---------------------------------------------------------------------------\u001B[0m",
      "\u001B[1;31mAttributeError\u001B[0m                            Traceback (most recent call last)",
      "\u001B[1;32m~\\AppData\\Local\\Temp/ipykernel_2804/2618408893.py\u001B[0m in \u001B[0;36m<module>\u001B[1;34m\u001B[0m\n\u001B[0;32m      3\u001B[0m     \u001B[0mmerged_storedT\u001B[0m \u001B[1;33m=\u001B[0m \u001B[0mbelow_threshold\u001B[0m\u001B[1;33m.\u001B[0m\u001B[0mappend\u001B[0m\u001B[1;33m(\u001B[0m\u001B[0mstored\u001B[0m\u001B[1;33m)\u001B[0m\u001B[1;33m\u001B[0m\u001B[1;33m\u001B[0m\u001B[0m\n\u001B[0;32m      4\u001B[0m     \u001B[0mbelow_threshold\u001B[0m \u001B[1;33m=\u001B[0m \u001B[0mmerged_storedT\u001B[0m\u001B[1;33m.\u001B[0m\u001B[0mdrop_duplicates\u001B[0m\u001B[1;33m(\u001B[0m\u001B[0mkeep\u001B[0m\u001B[1;33m=\u001B[0m\u001B[1;32mFalse\u001B[0m\u001B[1;33m)\u001B[0m\u001B[1;33m.\u001B[0m\u001B[0mshape\u001B[0m\u001B[1;33m\u001B[0m\u001B[1;33m\u001B[0m\u001B[0m\n\u001B[1;32m----> 5\u001B[1;33m     \u001B[0mbelow_threshold\u001B[0m\u001B[1;33m.\u001B[0m\u001B[0mto_excel\u001B[0m\u001B[1;33m(\u001B[0m\u001B[1;34m'unreported_under_threshold_doc.xlsx'\u001B[0m\u001B[1;33m)\u001B[0m\u001B[1;33m\u001B[0m\u001B[1;33m\u001B[0m\u001B[0m\n\u001B[0m\u001B[0;32m      6\u001B[0m \u001B[1;33m\u001B[0m\u001B[0m\n\u001B[0;32m      7\u001B[0m \u001B[1;32melse\u001B[0m\u001B[1;33m:\u001B[0m\u001B[1;33m\u001B[0m\u001B[1;33m\u001B[0m\u001B[0m\n",
      "\u001B[1;31mAttributeError\u001B[0m: 'tuple' object has no attribute 'to_excel'"
     ]
    }
   ],
   "source": [
    "if file_exists:\n",
    "    stored = pd.read_excel(\"under_threshold_doc.xlsx\")\n",
    "    merged_storedT = below_threshold.append(stored)\n",
    "    below_threshold = merged_storedT.drop_duplicates(keep=False).shape\n",
    "    below_threshold.to_excel('unreported_under_threshold_doc.xlsx')\n",
    "\n",
    "else:\n",
    "    below_threshold.to_excel(\"unreported_under_threshold_doc.xlsx\")"
   ],
   "metadata": {
    "collapsed": false,
    "pycharm": {
     "name": "#%%\n"
    }
   }
  },
  {
   "cell_type": "code",
   "execution_count": 16,
   "outputs": [
    {
     "name": "stdout",
     "output_type": "stream",
     "text": [
      "(6, 14)\n"
     ]
    }
   ],
   "source": [
    "print(below_threshold)"
   ],
   "metadata": {
    "collapsed": false,
    "pycharm": {
     "name": "#%%\n"
    }
   }
  },
  {
   "cell_type": "code",
   "execution_count": 14,
   "outputs": [
    {
     "data": {
      "text/plain": "1     False\n2     False\n3     False\n4     False\n5     False\n10    False\n0     False\n1     False\n0      True\n1      True\ndtype: bool"
     },
     "execution_count": 14,
     "metadata": {},
     "output_type": "execute_result"
    }
   ],
   "source": [
    "merged_storedT.duplicated()"
   ],
   "metadata": {
    "collapsed": false,
    "pycharm": {
     "name": "#%%\n"
    }
   }
  },
  {
   "cell_type": "code",
   "execution_count": null,
   "outputs": [],
   "source": [],
   "metadata": {
    "collapsed": false,
    "pycharm": {
     "name": "#%%\n"
    }
   }
  }
 ],
 "metadata": {
  "kernelspec": {
   "name": "pycharm-60221d7a",
   "language": "python",
   "display_name": "PyCharm (pythonProject2)"
  },
  "language_info": {
   "codemirror_mode": {
    "name": "ipython",
    "version": 2
   },
   "file_extension": ".py",
   "mimetype": "text/x-python",
   "name": "python",
   "nbconvert_exporter": "python",
   "pygments_lexer": "ipython2",
   "version": "2.7.6"
  }
 },
 "nbformat": 4,
 "nbformat_minor": 0
}