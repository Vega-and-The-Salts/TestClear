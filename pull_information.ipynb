# -*- coding: utf-8 -*-
"""
Created on Wed Dec  1 19:07:57 2021

@author: disgu
"""

